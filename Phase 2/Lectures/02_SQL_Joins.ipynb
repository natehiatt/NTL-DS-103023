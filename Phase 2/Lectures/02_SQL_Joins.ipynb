{
 "cells": [
  {
   "cell_type": "markdown",
   "metadata": {},
   "source": [
    "![sql](images/sql-logo.jpg)"
   ]
  },
  {
   "cell_type": "code",
   "execution_count": 7,
   "metadata": {},
   "outputs": [],
   "source": [
    "import pandas as pd\n",
    "import sqlite3\n",
    "#import pandasql\n",
    "\n",
    "\n",
    "\n",
    "\n",
    "\n",
    "conn = sqlite3.connect('data/flights.db')\n",
    "cur = conn.cursor()"
   ]
  },
  {
   "cell_type": "markdown",
   "metadata": {
    "heading_collapsed": true
   },
   "source": [
    "# Objectives"
   ]
  },
  {
   "cell_type": "markdown",
   "metadata": {
    "hidden": true
   },
   "source": [
    "- Use SQL aggregation functions with GROUP BY\n",
    "- Use HAVING for group filtering\n",
    "- Use SQL JOIN to combine tables using keys"
   ]
  },
  {
   "cell_type": "markdown",
   "metadata": {
    "heading_collapsed": true
   },
   "source": [
    "# Aggregating Functions"
   ]
  },
  {
   "cell_type": "markdown",
   "metadata": {
    "hidden": true
   },
   "source": [
    ">  A SQL **aggregating function** takes in many values and returns one value."
   ]
  },
  {
   "cell_type": "markdown",
   "metadata": {
    "hidden": true
   },
   "source": [
    "We have already seen some SQL aggregating functions like `COUNT()`. There are also others, like SUM(), AVG(), MIN(), and MAX()."
   ]
  },
  {
   "cell_type": "markdown",
   "metadata": {
    "heading_collapsed": true,
    "hidden": true
   },
   "source": [
    "## Example Simple Aggregations"
   ]
  },
  {
   "cell_type": "code",
   "execution_count": 8,
   "metadata": {
    "hidden": true
   },
   "outputs": [
    {
     "data": {
      "text/html": [
       "<div>\n",
       "<style scoped>\n",
       "    .dataframe tbody tr th:only-of-type {\n",
       "        vertical-align: middle;\n",
       "    }\n",
       "\n",
       "    .dataframe tbody tr th {\n",
       "        vertical-align: top;\n",
       "    }\n",
       "\n",
       "    .dataframe thead th {\n",
       "        text-align: right;\n",
       "    }\n",
       "</style>\n",
       "<table border=\"1\" class=\"dataframe\">\n",
       "  <thead>\n",
       "    <tr style=\"text-align: right;\">\n",
       "      <th></th>\n",
       "      <th>max_longitude</th>\n",
       "    </tr>\n",
       "  </thead>\n",
       "  <tbody>\n",
       "    <tr>\n",
       "      <th>0</th>\n",
       "      <td>179.951</td>\n",
       "    </tr>\n",
       "  </tbody>\n",
       "</table>\n",
       "</div>"
      ],
      "text/plain": [
       "   max_longitude\n",
       "0        179.951"
      ]
     },
     "execution_count": 8,
     "metadata": {},
     "output_type": "execute_result"
    }
   ],
   "source": [
    "# Max value for longitude\n",
    "pd.read_sql('''\n",
    "    \n",
    "SELECT MAX(CAST(longitude as real)) AS max_longitude\n",
    "FROM airports\n",
    "    \n",
    "''', conn)"
   ]
  },
  {
   "cell_type": "code",
   "execution_count": null,
   "metadata": {
    "hidden": true
   },
   "outputs": [],
   "source": [
    "# Max value for id in table\n",
    "pd.read_sql('''\n",
    "SELECT \n",
    "    MAX(CAST(id AS integer))\n",
    "FROM \n",
    "    airports\n",
    "''', conn)"
   ]
  },
  {
   "cell_type": "code",
   "execution_count": null,
   "metadata": {
    "hidden": true
   },
   "outputs": [],
   "source": [
    "# Effectively counts all the inactive airlines \n",
    "pd.read_sql('''\n",
    "    SELECT \n",
    "        COUNT()\n",
    "    FROM \n",
    "        airlines\n",
    "    WHERE \n",
    "        active='N'\n",
    "''', conn)"
   ]
  },
  {
   "cell_type": "markdown",
   "metadata": {
    "hidden": true
   },
   "source": [
    "We can also give aliases to our aggregations:"
   ]
  },
  {
   "cell_type": "code",
   "execution_count": null,
   "metadata": {
    "hidden": true
   },
   "outputs": [],
   "source": [
    "# Effectively counts all the active airlines \n",
    "pd.read_sql('''\n",
    "    SELECT \n",
    "        COUNT() AS number_of_active_airlines\n",
    "    FROM \n",
    "        airlines\n",
    "    WHERE \n",
    "        active='Y'\n",
    "''', conn)"
   ]
  },
  {
   "cell_type": "markdown",
   "metadata": {
    "heading_collapsed": true
   },
   "source": [
    "# Grouping in SQL"
   ]
  },
  {
   "cell_type": "markdown",
   "metadata": {
    "hidden": true
   },
   "source": [
    "We can go deeper and use aggregation functions on _groups_ using the `GROUP BY` clause."
   ]
  },
  {
   "cell_type": "markdown",
   "metadata": {
    "hidden": true
   },
   "source": [
    "The `GROUP BY` clause will group one or more columns together with the same values as one group to perform aggregation functions on."
   ]
  },
  {
   "cell_type": "markdown",
   "metadata": {
    "heading_collapsed": true,
    "hidden": true
   },
   "source": [
    "## Example `GROUP BY`  Statements"
   ]
  },
  {
   "cell_type": "markdown",
   "metadata": {
    "hidden": true
   },
   "source": [
    "Let's say we want to know how many active and non-active airlines there are."
   ]
  },
  {
   "cell_type": "markdown",
   "metadata": {
    "heading_collapsed": true,
    "hidden": true
   },
   "source": [
    "### Without `GROUP BY`"
   ]
  },
  {
   "cell_type": "markdown",
   "metadata": {
    "hidden": true
   },
   "source": [
    "Let's first start with just seeing how many airlines there are:"
   ]
  },
  {
   "cell_type": "code",
   "execution_count": null,
   "metadata": {
    "hidden": true
   },
   "outputs": [],
   "source": [
    "df_results = pd.read_sql('''\n",
    "\n",
    "SELECT COUNT() AS num_of_airlines\n",
    "FROM airlines\n",
    "''', conn)\n",
    "\n",
    "df_results"
   ]
  },
  {
   "cell_type": "markdown",
   "metadata": {
    "hidden": true
   },
   "source": [
    "One way for us to get the counts for each is to create two queries that will filter each kind of airline (active vs non-active) and count those values:"
   ]
  },
  {
   "cell_type": "code",
   "execution_count": 9,
   "metadata": {
    "hidden": true
   },
   "outputs": [
    {
     "data": {
      "text/html": [
       "<div>\n",
       "<style scoped>\n",
       "    .dataframe tbody tr th:only-of-type {\n",
       "        vertical-align: middle;\n",
       "    }\n",
       "\n",
       "    .dataframe tbody tr th {\n",
       "        vertical-align: top;\n",
       "    }\n",
       "\n",
       "    .dataframe thead th {\n",
       "        text-align: right;\n",
       "    }\n",
       "</style>\n",
       "<table border=\"1\" class=\"dataframe\">\n",
       "  <thead>\n",
       "    <tr style=\"text-align: right;\">\n",
       "      <th></th>\n",
       "      <th>number_of_active_airlines</th>\n",
       "    </tr>\n",
       "  </thead>\n",
       "  <tbody>\n",
       "    <tr>\n",
       "      <th>0</th>\n",
       "      <td>1161</td>\n",
       "    </tr>\n",
       "  </tbody>\n",
       "</table>\n",
       "</div>"
      ],
      "text/plain": [
       "   number_of_active_airlines\n",
       "0                       1161"
      ]
     },
     "metadata": {},
     "output_type": "display_data"
    },
    {
     "data": {
      "text/html": [
       "<div>\n",
       "<style scoped>\n",
       "    .dataframe tbody tr th:only-of-type {\n",
       "        vertical-align: middle;\n",
       "    }\n",
       "\n",
       "    .dataframe tbody tr th {\n",
       "        vertical-align: top;\n",
       "    }\n",
       "\n",
       "    .dataframe thead th {\n",
       "        text-align: right;\n",
       "    }\n",
       "</style>\n",
       "<table border=\"1\" class=\"dataframe\">\n",
       "  <thead>\n",
       "    <tr style=\"text-align: right;\">\n",
       "      <th></th>\n",
       "      <th>number_of_inactive_airlines</th>\n",
       "    </tr>\n",
       "  </thead>\n",
       "  <tbody>\n",
       "    <tr>\n",
       "      <th>0</th>\n",
       "      <td>4886</td>\n",
       "    </tr>\n",
       "  </tbody>\n",
       "</table>\n",
       "</div>"
      ],
      "text/plain": [
       "   number_of_inactive_airlines\n",
       "0                         4886"
      ]
     },
     "metadata": {},
     "output_type": "display_data"
    }
   ],
   "source": [
    "df_active = pd.read_sql('''\n",
    "    SELECT \n",
    "        COUNT() AS number_of_active_airlines\n",
    "    FROM \n",
    "        airlines\n",
    "    WHERE \n",
    "        active='Y'\n",
    "''', conn)\n",
    "\n",
    "df_inactive = pd.read_sql('''\n",
    "    SELECT \n",
    "        COUNT() AS number_of_inactive_airlines\n",
    "    FROM \n",
    "        airlines\n",
    "    WHERE \n",
    "        active='N'\n",
    "''', conn)\n",
    "\n",
    "display(df_active)\n",
    "display(df_inactive)"
   ]
  },
  {
   "cell_type": "markdown",
   "metadata": {
    "hidden": true
   },
   "source": [
    "This works but it's inefficient."
   ]
  },
  {
   "cell_type": "markdown",
   "metadata": {
    "heading_collapsed": true,
    "hidden": true
   },
   "source": [
    "### With `GROUP BY`"
   ]
  },
  {
   "cell_type": "markdown",
   "metadata": {
    "hidden": true
   },
   "source": [
    "Instead, we can tell the SQL server to do the work for us by grouping values we care about for us!"
   ]
  },
  {
   "cell_type": "code",
   "execution_count": null,
   "metadata": {
    "hidden": true
   },
   "outputs": [],
   "source": [
    "df_results = pd.read_sql('''\n",
    "\n",
    "SELECT COUNT() as num_of_airlines, active\n",
    "FROM airlines\n",
    "GROUP BY active\n",
    "\n",
    "''', conn)\n",
    "\n",
    "df_results"
   ]
  },
  {
   "cell_type": "markdown",
   "metadata": {
    "hidden": true
   },
   "source": [
    "This is great! And if you look closely, you can observe we have _three_ different groups instead of our expected two!"
   ]
  },
  {
   "cell_type": "markdown",
   "metadata": {
    "heading_collapsed": true,
    "hidden": true
   },
   "source": [
    "## Group Task"
   ]
  },
  {
   "cell_type": "markdown",
   "metadata": {
    "hidden": true
   },
   "source": [
    "- Which countries have the highest numbers of active airlines? Return the top 10."
   ]
  },
  {
   "cell_type": "code",
   "execution_count": null,
   "metadata": {
    "hidden": true
   },
   "outputs": [],
   "source": [
    "# Note that we have a 'country' field/column\n",
    "pd.read_sql('''\n",
    "    SELECT\n",
    "        *\n",
    "    FROM\n",
    "        airlines\n",
    "''', conn)"
   ]
  },
  {
   "cell_type": "code",
   "execution_count": 10,
   "metadata": {
    "scrolled": true
   },
   "outputs": [
    {
     "data": {
      "text/html": [
       "<div>\n",
       "<style scoped>\n",
       "    .dataframe tbody tr th:only-of-type {\n",
       "        vertical-align: middle;\n",
       "    }\n",
       "\n",
       "    .dataframe tbody tr th {\n",
       "        vertical-align: top;\n",
       "    }\n",
       "\n",
       "    .dataframe thead th {\n",
       "        text-align: right;\n",
       "    }\n",
       "</style>\n",
       "<table border=\"1\" class=\"dataframe\">\n",
       "  <thead>\n",
       "    <tr style=\"text-align: right;\">\n",
       "      <th></th>\n",
       "      <th>country</th>\n",
       "      <th>num_airlines</th>\n",
       "    </tr>\n",
       "  </thead>\n",
       "  <tbody>\n",
       "    <tr>\n",
       "      <th>0</th>\n",
       "      <td>United States</td>\n",
       "      <td>141</td>\n",
       "    </tr>\n",
       "    <tr>\n",
       "      <th>1</th>\n",
       "      <td>Russia</td>\n",
       "      <td>72</td>\n",
       "    </tr>\n",
       "    <tr>\n",
       "      <th>2</th>\n",
       "      <td>United Kingdom</td>\n",
       "      <td>40</td>\n",
       "    </tr>\n",
       "    <tr>\n",
       "      <th>3</th>\n",
       "      <td>Germany</td>\n",
       "      <td>37</td>\n",
       "    </tr>\n",
       "    <tr>\n",
       "      <th>4</th>\n",
       "      <td>Canada</td>\n",
       "      <td>34</td>\n",
       "    </tr>\n",
       "    <tr>\n",
       "      <th>5</th>\n",
       "      <td>Australia</td>\n",
       "      <td>26</td>\n",
       "    </tr>\n",
       "    <tr>\n",
       "      <th>6</th>\n",
       "      <td>China</td>\n",
       "      <td>25</td>\n",
       "    </tr>\n",
       "    <tr>\n",
       "      <th>7</th>\n",
       "      <td>Spain</td>\n",
       "      <td>24</td>\n",
       "    </tr>\n",
       "    <tr>\n",
       "      <th>8</th>\n",
       "      <td>Brazil</td>\n",
       "      <td>23</td>\n",
       "    </tr>\n",
       "    <tr>\n",
       "      <th>9</th>\n",
       "      <td>France</td>\n",
       "      <td>22</td>\n",
       "    </tr>\n",
       "  </tbody>\n",
       "</table>\n",
       "</div>"
      ],
      "text/plain": [
       "          country  num_airlines\n",
       "0   United States           141\n",
       "1          Russia            72\n",
       "2  United Kingdom            40\n",
       "3         Germany            37\n",
       "4          Canada            34\n",
       "5       Australia            26\n",
       "6           China            25\n",
       "7           Spain            24\n",
       "8          Brazil            23\n",
       "9          France            22"
      ]
     },
     "execution_count": 10,
     "metadata": {},
     "output_type": "execute_result"
    }
   ],
   "source": [
    "pd.read_sql(\"\"\"\n",
    "SELECT country, COUNT() AS num_airlines\n",
    "            FROM airlines\n",
    "            WHERE active = \"Y\"\n",
    "            GROUP BY country\n",
    "            ORDER BY num_airlines DESC\n",
    "            LIMIT 10\n",
    "            \n",
    "\n",
    "\n",
    "\"\"\", conn)"
   ]
  },
  {
   "cell_type": "code",
   "execution_count": null,
   "metadata": {},
   "outputs": [],
   "source": []
  },
  {
   "cell_type": "code",
   "execution_count": null,
   "metadata": {},
   "outputs": [],
   "source": [
    "pandas_way = pd.read_sql(\"\"\"\n",
    "SELECT *\n",
    "FROM airlines\n",
    "\n",
    "\n",
    "\"\"\", conn)"
   ]
  },
  {
   "cell_type": "code",
   "execution_count": null,
   "metadata": {
    "scrolled": true
   },
   "outputs": [],
   "source": [
    "pandas_way"
   ]
  },
  {
   "cell_type": "code",
   "execution_count": null,
   "metadata": {},
   "outputs": [],
   "source": [
    "pandas_way.loc[pandas_way['active'] == 'Y']['country'].value_counts()[:10]"
   ]
  },
  {
   "cell_type": "markdown",
   "metadata": {
    "heading_collapsed": true,
    "hidden": true
   },
   "source": [
    "<details>\n",
    "    <summary><b>Possible Solution</b></summary>\n",
    "\n",
    "``` sql\n",
    "    pd.read_sql('''\n",
    "    SELECT \n",
    "        COUNT() AS num,\n",
    "        country\n",
    "    FROM \n",
    "        airlines\n",
    "    WHERE \n",
    "        active='Y'\n",
    "    GROUP BY \n",
    "        country\n",
    "    ORDER BY \n",
    "        num DESC\n",
    "    LIMIT 10\n",
    "    ''', conn)```\n",
    "</details>"
   ]
  },
  {
   "cell_type": "markdown",
   "metadata": {
    "hidden": true
   },
   "source": [
    "> Note that the `GROUP BY` clause is considered _before_ the `ORDER BY` and `LIMIT` clauses, more on this later."
   ]
  },
  {
   "cell_type": "markdown",
   "metadata": {
    "heading_collapsed": true,
    "hidden": true
   },
   "source": [
    "## Exercise: Grouping"
   ]
  },
  {
   "cell_type": "markdown",
   "metadata": {
    "hidden": true
   },
   "source": [
    "- Run a query that will return the number of airports by time zone. Each row should have a number of airports and a time zone."
   ]
  },
  {
   "cell_type": "code",
   "execution_count": 13,
   "metadata": {},
   "outputs": [
    {
     "data": {
      "text/html": [
       "<div>\n",
       "<style scoped>\n",
       "    .dataframe tbody tr th:only-of-type {\n",
       "        vertical-align: middle;\n",
       "    }\n",
       "\n",
       "    .dataframe tbody tr th {\n",
       "        vertical-align: top;\n",
       "    }\n",
       "\n",
       "    .dataframe thead th {\n",
       "        text-align: right;\n",
       "    }\n",
       "</style>\n",
       "<table border=\"1\" class=\"dataframe\">\n",
       "  <thead>\n",
       "    <tr style=\"text-align: right;\">\n",
       "      <th></th>\n",
       "      <th>index</th>\n",
       "      <th>id</th>\n",
       "      <th>name</th>\n",
       "      <th>city</th>\n",
       "      <th>country</th>\n",
       "      <th>code</th>\n",
       "      <th>icao</th>\n",
       "      <th>latitude</th>\n",
       "      <th>longitude</th>\n",
       "      <th>altitude</th>\n",
       "      <th>offset</th>\n",
       "      <th>dst</th>\n",
       "      <th>timezone</th>\n",
       "    </tr>\n",
       "  </thead>\n",
       "  <tbody>\n",
       "    <tr>\n",
       "      <th>0</th>\n",
       "      <td>0</td>\n",
       "      <td>1</td>\n",
       "      <td>Goroka</td>\n",
       "      <td>Goroka</td>\n",
       "      <td>Papua New Guinea</td>\n",
       "      <td>GKA</td>\n",
       "      <td>AYGA</td>\n",
       "      <td>-6.081689</td>\n",
       "      <td>145.391881</td>\n",
       "      <td>5282</td>\n",
       "      <td>10</td>\n",
       "      <td>U</td>\n",
       "      <td>Pacific/Port_Moresby</td>\n",
       "    </tr>\n",
       "    <tr>\n",
       "      <th>1</th>\n",
       "      <td>1</td>\n",
       "      <td>2</td>\n",
       "      <td>Madang</td>\n",
       "      <td>Madang</td>\n",
       "      <td>Papua New Guinea</td>\n",
       "      <td>MAG</td>\n",
       "      <td>AYMD</td>\n",
       "      <td>-5.207083</td>\n",
       "      <td>145.7887</td>\n",
       "      <td>20</td>\n",
       "      <td>10</td>\n",
       "      <td>U</td>\n",
       "      <td>Pacific/Port_Moresby</td>\n",
       "    </tr>\n",
       "    <tr>\n",
       "      <th>2</th>\n",
       "      <td>2</td>\n",
       "      <td>3</td>\n",
       "      <td>Mount Hagen</td>\n",
       "      <td>Mount Hagen</td>\n",
       "      <td>Papua New Guinea</td>\n",
       "      <td>HGU</td>\n",
       "      <td>AYMH</td>\n",
       "      <td>-5.826789</td>\n",
       "      <td>144.295861</td>\n",
       "      <td>5388</td>\n",
       "      <td>10</td>\n",
       "      <td>U</td>\n",
       "      <td>Pacific/Port_Moresby</td>\n",
       "    </tr>\n",
       "    <tr>\n",
       "      <th>3</th>\n",
       "      <td>3</td>\n",
       "      <td>4</td>\n",
       "      <td>Nadzab</td>\n",
       "      <td>Nadzab</td>\n",
       "      <td>Papua New Guinea</td>\n",
       "      <td>LAE</td>\n",
       "      <td>AYNZ</td>\n",
       "      <td>-6.569828</td>\n",
       "      <td>146.726242</td>\n",
       "      <td>239</td>\n",
       "      <td>10</td>\n",
       "      <td>U</td>\n",
       "      <td>Pacific/Port_Moresby</td>\n",
       "    </tr>\n",
       "    <tr>\n",
       "      <th>4</th>\n",
       "      <td>4</td>\n",
       "      <td>5</td>\n",
       "      <td>Port Moresby Jacksons Intl</td>\n",
       "      <td>Port Moresby</td>\n",
       "      <td>Papua New Guinea</td>\n",
       "      <td>POM</td>\n",
       "      <td>AYPY</td>\n",
       "      <td>-9.443383</td>\n",
       "      <td>147.22005</td>\n",
       "      <td>146</td>\n",
       "      <td>10</td>\n",
       "      <td>U</td>\n",
       "      <td>Pacific/Port_Moresby</td>\n",
       "    </tr>\n",
       "    <tr>\n",
       "      <th>...</th>\n",
       "      <td>...</td>\n",
       "      <td>...</td>\n",
       "      <td>...</td>\n",
       "      <td>...</td>\n",
       "      <td>...</td>\n",
       "      <td>...</td>\n",
       "      <td>...</td>\n",
       "      <td>...</td>\n",
       "      <td>...</td>\n",
       "      <td>...</td>\n",
       "      <td>...</td>\n",
       "      <td>...</td>\n",
       "      <td>...</td>\n",
       "    </tr>\n",
       "    <tr>\n",
       "      <th>8102</th>\n",
       "      <td>8102</td>\n",
       "      <td>9537</td>\n",
       "      <td>Mansons Landing Water Aerodrome</td>\n",
       "      <td>Mansons Landing</td>\n",
       "      <td>Canada</td>\n",
       "      <td>YMU</td>\n",
       "      <td>\\N</td>\n",
       "      <td>50.066667</td>\n",
       "      <td>-124.983333</td>\n",
       "      <td>0</td>\n",
       "      <td>-8</td>\n",
       "      <td>A</td>\n",
       "      <td>America/Vancouver</td>\n",
       "    </tr>\n",
       "    <tr>\n",
       "      <th>8103</th>\n",
       "      <td>8103</td>\n",
       "      <td>9538</td>\n",
       "      <td>Port McNeill Airport</td>\n",
       "      <td>Port McNeill</td>\n",
       "      <td>Canada</td>\n",
       "      <td>YMP</td>\n",
       "      <td>\\N</td>\n",
       "      <td>50.575556</td>\n",
       "      <td>-127.028611</td>\n",
       "      <td>225</td>\n",
       "      <td>-8</td>\n",
       "      <td>A</td>\n",
       "      <td>America/Vancouver</td>\n",
       "    </tr>\n",
       "    <tr>\n",
       "      <th>8104</th>\n",
       "      <td>8104</td>\n",
       "      <td>9539</td>\n",
       "      <td>Sullivan Bay Water Aerodrome</td>\n",
       "      <td>Sullivan Bay</td>\n",
       "      <td>Canada</td>\n",
       "      <td>YTG</td>\n",
       "      <td>\\N</td>\n",
       "      <td>50.883333</td>\n",
       "      <td>-126.833333</td>\n",
       "      <td>0</td>\n",
       "      <td>-8</td>\n",
       "      <td>A</td>\n",
       "      <td>America/Vancouver</td>\n",
       "    </tr>\n",
       "    <tr>\n",
       "      <th>8105</th>\n",
       "      <td>8105</td>\n",
       "      <td>9540</td>\n",
       "      <td>Deer Harbor Seaplane</td>\n",
       "      <td>Deer Harbor</td>\n",
       "      <td>United States</td>\n",
       "      <td>DHB</td>\n",
       "      <td>\\N</td>\n",
       "      <td>48.618397</td>\n",
       "      <td>-123.00596</td>\n",
       "      <td>0</td>\n",
       "      <td>-8</td>\n",
       "      <td>A</td>\n",
       "      <td>America/Los_Angeles</td>\n",
       "    </tr>\n",
       "    <tr>\n",
       "      <th>8106</th>\n",
       "      <td>8106</td>\n",
       "      <td>9541</td>\n",
       "      <td>San Diego Old Town Transit Center</td>\n",
       "      <td>San Diego</td>\n",
       "      <td>United States</td>\n",
       "      <td>OLT</td>\n",
       "      <td>\\N</td>\n",
       "      <td>32.7552</td>\n",
       "      <td>-117.1995</td>\n",
       "      <td>0</td>\n",
       "      <td>-8</td>\n",
       "      <td>A</td>\n",
       "      <td>America/Los_Angeles</td>\n",
       "    </tr>\n",
       "  </tbody>\n",
       "</table>\n",
       "<p>8107 rows × 13 columns</p>\n",
       "</div>"
      ],
      "text/plain": [
       "      index    id                               name             city  \\\n",
       "0         0     1                             Goroka           Goroka   \n",
       "1         1     2                             Madang           Madang   \n",
       "2         2     3                        Mount Hagen      Mount Hagen   \n",
       "3         3     4                             Nadzab           Nadzab   \n",
       "4         4     5         Port Moresby Jacksons Intl     Port Moresby   \n",
       "...     ...   ...                                ...              ...   \n",
       "8102   8102  9537    Mansons Landing Water Aerodrome  Mansons Landing   \n",
       "8103   8103  9538               Port McNeill Airport     Port McNeill   \n",
       "8104   8104  9539       Sullivan Bay Water Aerodrome     Sullivan Bay   \n",
       "8105   8105  9540               Deer Harbor Seaplane      Deer Harbor   \n",
       "8106   8106  9541  San Diego Old Town Transit Center        San Diego   \n",
       "\n",
       "               country code  icao   latitude    longitude altitude offset dst  \\\n",
       "0     Papua New Guinea  GKA  AYGA  -6.081689   145.391881     5282     10   U   \n",
       "1     Papua New Guinea  MAG  AYMD  -5.207083     145.7887       20     10   U   \n",
       "2     Papua New Guinea  HGU  AYMH  -5.826789   144.295861     5388     10   U   \n",
       "3     Papua New Guinea  LAE  AYNZ  -6.569828   146.726242      239     10   U   \n",
       "4     Papua New Guinea  POM  AYPY  -9.443383    147.22005      146     10   U   \n",
       "...                ...  ...   ...        ...          ...      ...    ...  ..   \n",
       "8102            Canada  YMU    \\N  50.066667  -124.983333        0     -8   A   \n",
       "8103            Canada  YMP    \\N  50.575556  -127.028611      225     -8   A   \n",
       "8104            Canada  YTG    \\N  50.883333  -126.833333        0     -8   A   \n",
       "8105     United States  DHB    \\N  48.618397   -123.00596        0     -8   A   \n",
       "8106     United States  OLT    \\N    32.7552    -117.1995        0     -8   A   \n",
       "\n",
       "                  timezone  \n",
       "0     Pacific/Port_Moresby  \n",
       "1     Pacific/Port_Moresby  \n",
       "2     Pacific/Port_Moresby  \n",
       "3     Pacific/Port_Moresby  \n",
       "4     Pacific/Port_Moresby  \n",
       "...                    ...  \n",
       "8102     America/Vancouver  \n",
       "8103     America/Vancouver  \n",
       "8104     America/Vancouver  \n",
       "8105   America/Los_Angeles  \n",
       "8106   America/Los_Angeles  \n",
       "\n",
       "[8107 rows x 13 columns]"
      ]
     },
     "execution_count": 13,
     "metadata": {},
     "output_type": "execute_result"
    }
   ],
   "source": [
    "df = pd.read_sql(\"\"\"\n",
    "SELECT *\n",
    "            FROM airports\n",
    "            \"\"\", conn)\n",
    "        \n",
    "        \n",
    "\n",
    "df\n"
   ]
  },
  {
   "cell_type": "code",
   "execution_count": 16,
   "metadata": {
    "hidden": true,
    "scrolled": true
   },
   "outputs": [
    {
     "data": {
      "text/html": [
       "<div>\n",
       "<style scoped>\n",
       "    .dataframe tbody tr th:only-of-type {\n",
       "        vertical-align: middle;\n",
       "    }\n",
       "\n",
       "    .dataframe tbody tr th {\n",
       "        vertical-align: top;\n",
       "    }\n",
       "\n",
       "    .dataframe thead th {\n",
       "        text-align: right;\n",
       "    }\n",
       "</style>\n",
       "<table border=\"1\" class=\"dataframe\">\n",
       "  <thead>\n",
       "    <tr style=\"text-align: right;\">\n",
       "      <th></th>\n",
       "      <th>timezone</th>\n",
       "      <th>num_airports</th>\n",
       "    </tr>\n",
       "  </thead>\n",
       "  <tbody>\n",
       "    <tr>\n",
       "      <th>0</th>\n",
       "      <td>America/New_York</td>\n",
       "      <td>628</td>\n",
       "    </tr>\n",
       "    <tr>\n",
       "      <th>1</th>\n",
       "      <td>America/Chicago</td>\n",
       "      <td>373</td>\n",
       "    </tr>\n",
       "    <tr>\n",
       "      <th>2</th>\n",
       "      <td>Europe/Berlin</td>\n",
       "      <td>319</td>\n",
       "    </tr>\n",
       "    <tr>\n",
       "      <th>3</th>\n",
       "      <td>America/Anchorage</td>\n",
       "      <td>258</td>\n",
       "    </tr>\n",
       "    <tr>\n",
       "      <th>4</th>\n",
       "      <td>Europe/Paris</td>\n",
       "      <td>232</td>\n",
       "    </tr>\n",
       "    <tr>\n",
       "      <th>...</th>\n",
       "      <td>...</td>\n",
       "      <td>...</td>\n",
       "    </tr>\n",
       "    <tr>\n",
       "      <th>289</th>\n",
       "      <td>America/Anguilla</td>\n",
       "      <td>1</td>\n",
       "    </tr>\n",
       "    <tr>\n",
       "      <th>290</th>\n",
       "      <td>Africa/Porto-Novo</td>\n",
       "      <td>1</td>\n",
       "    </tr>\n",
       "    <tr>\n",
       "      <th>291</th>\n",
       "      <td>Africa/Mbabane</td>\n",
       "      <td>1</td>\n",
       "    </tr>\n",
       "    <tr>\n",
       "      <th>292</th>\n",
       "      <td>Africa/Bujumbura</td>\n",
       "      <td>1</td>\n",
       "    </tr>\n",
       "    <tr>\n",
       "      <th>293</th>\n",
       "      <td>Africa/Banjul</td>\n",
       "      <td>1</td>\n",
       "    </tr>\n",
       "  </tbody>\n",
       "</table>\n",
       "<p>294 rows × 2 columns</p>\n",
       "</div>"
      ],
      "text/plain": [
       "              timezone  num_airports\n",
       "0     America/New_York           628\n",
       "1      America/Chicago           373\n",
       "2        Europe/Berlin           319\n",
       "3    America/Anchorage           258\n",
       "4         Europe/Paris           232\n",
       "..                 ...           ...\n",
       "289   America/Anguilla             1\n",
       "290  Africa/Porto-Novo             1\n",
       "291     Africa/Mbabane             1\n",
       "292   Africa/Bujumbura             1\n",
       "293      Africa/Banjul             1\n",
       "\n",
       "[294 rows x 2 columns]"
      ]
     },
     "execution_count": 16,
     "metadata": {},
     "output_type": "execute_result"
    }
   ],
   "source": [
    "# Your code here\n",
    "pd.read_sql(\"\"\"\n",
    "            \n",
    "SELECT timezone, COUNT() AS num_airports\n",
    "FROM airports\n",
    "GROUP BY timezone\n",
    "ORDER BY num_airports DESC\n",
    "\"\"\", conn)"
   ]
  },
  {
   "cell_type": "code",
   "execution_count": null,
   "metadata": {},
   "outputs": [],
   "source": [
    "pd.read_sql(\"\"\"\n",
    "\n",
    "\n",
    "\n",
    "\n",
    "\"\"\", conn)"
   ]
  },
  {
   "cell_type": "markdown",
   "metadata": {
    "heading_collapsed": true,
    "hidden": true
   },
   "source": [
    "<details>\n",
    "    <summary><b>Possible Solution</b></summary>\n",
    "\n",
    "``` sql\n",
    "pd.read_sql('''\n",
    "    SELECT \n",
    "        airports.timezone\n",
    "        ,COUNT() AS num_of_airports\n",
    "    FROM \n",
    "        airports\n",
    "    GROUP BY\n",
    "        airports.timezone\n",
    "    ORDER BY\n",
    "        num_of_airports DESC\n",
    "''', conn) ```\n",
    "</details>"
   ]
  },
  {
   "cell_type": "markdown",
   "metadata": {
    "heading_collapsed": true
   },
   "source": [
    "# Filtering Groups with `HAVING`"
   ]
  },
  {
   "cell_type": "markdown",
   "metadata": {
    "hidden": true
   },
   "source": [
    "We showed that you can filter tables with `WHERE`. We can similarly filter _groups/aggregations_ using `HAVING` clauses."
   ]
  },
  {
   "cell_type": "markdown",
   "metadata": {
    "heading_collapsed": true,
    "hidden": true
   },
   "source": [
    "## Examples of Using `HAVING`"
   ]
  },
  {
   "cell_type": "markdown",
   "metadata": {
    "heading_collapsed": true,
    "hidden": true
   },
   "source": [
    "### Simple Filtering - Number of Airports in a Country"
   ]
  },
  {
   "cell_type": "markdown",
   "metadata": {
    "hidden": true
   },
   "source": [
    "Let's come back to the aggregation of active airlines:"
   ]
  },
  {
   "cell_type": "code",
   "execution_count": null,
   "metadata": {
    "hidden": true
   },
   "outputs": [],
   "source": [
    "pd.read_sql('''\n",
    "    SELECT \n",
    "        COUNT() AS num,\n",
    "        country\n",
    "    FROM \n",
    "        airlines\n",
    "    WHERE \n",
    "        active='Y'\n",
    "    GROUP BY \n",
    "        country\n",
    "    ORDER BY \n",
    "        num DESC\n",
    "''', conn)"
   ]
  },
  {
   "cell_type": "markdown",
   "metadata": {
    "hidden": true
   },
   "source": [
    "We can see we have a lot of results. But maybe we only want to keep the countries that have more than $30$ active airlines:"
   ]
  },
  {
   "cell_type": "code",
   "execution_count": null,
   "metadata": {
    "hidden": true
   },
   "outputs": [],
   "source": [
    "pd.read_sql('''\n",
    "    SELECT \n",
    "        country,\n",
    "        COUNT() AS num\n",
    "    FROM \n",
    "        airlines\n",
    "    WHERE \n",
    "        active='Y'\n",
    "    GROUP BY \n",
    "        country\n",
    "    HAVING \n",
    "        num > 30\n",
    "    ORDER BY \n",
    "        num DESC\n",
    "''', conn)"
   ]
  },
  {
   "cell_type": "markdown",
   "metadata": {
    "heading_collapsed": true,
    "hidden": true
   },
   "source": [
    "## Filtering Different Aggregations - Airport Altitudes"
   ]
  },
  {
   "cell_type": "markdown",
   "metadata": {
    "hidden": true
   },
   "source": [
    "We can also filter on other aggregations. For example, let's say we want to investigate the `airports` table."
   ]
  },
  {
   "cell_type": "markdown",
   "metadata": {
    "hidden": true
   },
   "source": [
    "Specifically, we want to know the height of the _highest airport_ in a country given that it has _at least $100$ airports_."
   ]
  },
  {
   "cell_type": "markdown",
   "metadata": {
    "heading_collapsed": true,
    "hidden": true
   },
   "source": [
    "### Looking at the `airports` Table"
   ]
  },
  {
   "cell_type": "code",
   "execution_count": null,
   "metadata": {
    "hidden": true
   },
   "outputs": [],
   "source": [
    "df_airports = pd.read_sql('''\n",
    "    SELECT \n",
    "        *\n",
    "    FROM \n",
    "        airports \n",
    "''', conn)\n",
    "\n",
    "df_airports.head()"
   ]
  },
  {
   "cell_type": "markdown",
   "metadata": {
    "heading_collapsed": true,
    "hidden": true
   },
   "source": [
    "### Looking at the Highest Airport"
   ]
  },
  {
   "cell_type": "markdown",
   "metadata": {
    "hidden": true
   },
   "source": [
    "Let's first get the highest altitude for each country:"
   ]
  },
  {
   "cell_type": "code",
   "execution_count": null,
   "metadata": {
    "hidden": true
   },
   "outputs": [],
   "source": [
    "pd.read_sql('''\n",
    "   \n",
    "SELECT country, MAX(CAST(altitude as real)) AS max_altitude\n",
    "FROM airports\n",
    "GROUP BY country\n",
    "ORDER BY country\n",
    "\n",
    "   \n",
    "''', conn)"
   ]
  },
  {
   "cell_type": "markdown",
   "metadata": {
    "heading_collapsed": true,
    "hidden": true
   },
   "source": [
    "### Looking at the Number of Airports Too"
   ]
  },
  {
   "cell_type": "markdown",
   "metadata": {
    "hidden": true
   },
   "source": [
    "We can also get the number of airports for each country."
   ]
  },
  {
   "cell_type": "code",
   "execution_count": null,
   "metadata": {
    "hidden": true
   },
   "outputs": [],
   "source": [
    "pd.read_sql('''\n",
    "\n",
    "SELECT country, MAX(CAST(altitude as real)) AS max_altitude, COUNT() AS num_airports\n",
    "FROM airports\n",
    "GROUP BY country\n",
    "ORDER BY country\n",
    "\n",
    "''', conn)"
   ]
  },
  {
   "cell_type": "markdown",
   "metadata": {
    "heading_collapsed": true,
    "hidden": true
   },
   "source": [
    "### Filtering on Aggregations"
   ]
  },
  {
   "cell_type": "markdown",
   "metadata": {
    "hidden": true
   },
   "source": [
    "> Recall:\n",
    ">\n",
    "> We want to know the height of the _highest airport_ in a country given that it has _at least $100$ airports_."
   ]
  },
  {
   "cell_type": "code",
   "execution_count": null,
   "metadata": {
    "hidden": true,
    "scrolled": false
   },
   "outputs": [],
   "source": [
    "pd.read_sql('''\n",
    "\n",
    "SELECT country, MAX(CAST(altitude as real)) AS max_altitude\n",
    "FROM airports\n",
    "GROUP BY country\n",
    "HAVING COUNT() >= 100\n",
    "ORDER BY country\n",
    "\n",
    "\n",
    "''', conn)"
   ]
  },
  {
   "cell_type": "markdown",
   "metadata": {
    "heading_collapsed": true
   },
   "source": [
    "# Joins"
   ]
  },
  {
   "cell_type": "markdown",
   "metadata": {
    "hidden": true
   },
   "source": [
    "The biggest advantage in using a relational database (like we've been with SQL) is that you can create **joins**."
   ]
  },
  {
   "cell_type": "markdown",
   "metadata": {
    "hidden": true
   },
   "source": [
    "> By using **`JOIN`** in our query, we can connect different tables using their _relationships_ to other tables.\n",
    ">\n",
    "> Usually we use a key (*foreign key*) to tell us how the two tables are related."
   ]
  },
  {
   "cell_type": "markdown",
   "metadata": {
    "hidden": true
   },
   "source": [
    "There are different types of joins and each has their different use case. This is very similair to pandas `.join(), .merge()` as well as tableau relationships."
   ]
  },
  {
   "cell_type": "markdown",
   "metadata": {
    "heading_collapsed": true,
    "hidden": true
   },
   "source": [
    "## `INNER JOIN`"
   ]
  },
  {
   "cell_type": "markdown",
   "metadata": {
    "hidden": true
   },
   "source": [
    "> An **inner join** will join two tables together and only keep rows if the _key is in both tables_"
   ]
  },
  {
   "cell_type": "markdown",
   "metadata": {
    "hidden": true
   },
   "source": [
    "![](images/inner_join.png)"
   ]
  },
  {
   "cell_type": "markdown",
   "metadata": {
    "hidden": true
   },
   "source": [
    "Example of an inner join:\n",
    "\n",
    "```sql\n",
    "SELECT\n",
    "    table1.column_name,\n",
    "    table2.different_column_name\n",
    "FROM\n",
    "    table1\n",
    "    INNER JOIN table2\n",
    "        ON table1.shared_column_name = table2.shared_column_name\n",
    "```"
   ]
  },
  {
   "cell_type": "markdown",
   "metadata": {
    "heading_collapsed": true,
    "hidden": true
   },
   "source": [
    "### Code Example for Inner Joins"
   ]
  },
  {
   "cell_type": "markdown",
   "metadata": {
    "hidden": true
   },
   "source": [
    "Let's say we want to look at the different airplane routes"
   ]
  },
  {
   "cell_type": "code",
   "execution_count": null,
   "metadata": {
    "hidden": true,
    "scrolled": true
   },
   "outputs": [],
   "source": [
    "pd.read_sql('''\n",
    "    SELECT \n",
    "        *\n",
    "    FROM\n",
    "        routes \n",
    "''', conn)"
   ]
  },
  {
   "cell_type": "code",
   "execution_count": null,
   "metadata": {},
   "outputs": [],
   "source": [
    "pd.read_sql('''\n",
    "    SELECT \n",
    "        *\n",
    "    FROM\n",
    "        airlines \n",
    "''', conn)"
   ]
  },
  {
   "cell_type": "markdown",
   "metadata": {
    "hidden": true
   },
   "source": [
    "This is great but notice the `airline_id` column. It'd be nice to have some more information about the airlines associated with these routes."
   ]
  },
  {
   "cell_type": "markdown",
   "metadata": {
    "hidden": true
   },
   "source": [
    "We can do an **inner join** to get this information!"
   ]
  },
  {
   "cell_type": "markdown",
   "metadata": {
    "heading_collapsed": true,
    "hidden": true
   },
   "source": [
    "#### Inner Join Routes & Airline Data"
   ]
  },
  {
   "cell_type": "code",
   "execution_count": null,
   "metadata": {
    "hidden": true
   },
   "outputs": [],
   "source": [
    "pd.read_sql('''\n",
    "\n",
    "SELECT *\n",
    "FROM routes AS r\n",
    "    INNER JOIN airlines AS al\n",
    "        ON r.airline_id = al.id\n",
    "\n",
    "''', conn)"
   ]
  },
  {
   "cell_type": "markdown",
   "metadata": {
    "hidden": true
   },
   "source": [
    "We can also specify that we want to retain only certain columns in the `SELECT` clause:"
   ]
  },
  {
   "cell_type": "code",
   "execution_count": null,
   "metadata": {
    "hidden": true
   },
   "outputs": [],
   "source": [
    "pd.read_sql('''\n",
    "\n",
    "SELECT r.airline AS r_airline, r.source AS departing, r.dest AS destination, r.stops, al.name AS airline\n",
    "FROM routes AS r\n",
    "    INNER JOIN airlines AS al\n",
    "        ON r.airline_id = al.id\n",
    "''', conn)"
   ]
  },
  {
   "cell_type": "markdown",
   "metadata": {
    "heading_collapsed": true,
    "hidden": true
   },
   "source": [
    "#### Note: Losing Data with Inner Joins"
   ]
  },
  {
   "cell_type": "markdown",
   "metadata": {
    "hidden": true
   },
   "source": [
    "Since data rows are kept only if _both_ tables have the key, some data can be lost"
   ]
  },
  {
   "cell_type": "code",
   "execution_count": null,
   "metadata": {
    "hidden": true
   },
   "outputs": [],
   "source": [
    "df_all_routes = pd.read_sql('''\n",
    "    SELECT \n",
    "        *\n",
    "    FROM\n",
    "        routes\n",
    "''', conn)\n",
    "\n",
    "df_routes_after_join = pd.read_sql('''\n",
    "    SELECT \n",
    "        *\n",
    "    FROM\n",
    "        routes\n",
    "        INNER JOIN airlines\n",
    "            ON routes.airline_id = airlines.id\n",
    "''', conn)"
   ]
  },
  {
   "cell_type": "code",
   "execution_count": null,
   "metadata": {
    "hidden": true
   },
   "outputs": [],
   "source": [
    "# Look at how the number of rows are different\n",
    "df_all_routes.shape, df_routes_after_join.shape"
   ]
  },
  {
   "cell_type": "markdown",
   "metadata": {
    "hidden": true
   },
   "source": [
    "If you want to keep your data from at least one of your tables, you should use a left join instead of an inner join."
   ]
  },
  {
   "cell_type": "markdown",
   "metadata": {
    "heading_collapsed": true,
    "hidden": true
   },
   "source": [
    "## `LEFT JOIN`"
   ]
  },
  {
   "cell_type": "markdown",
   "metadata": {
    "hidden": true
   },
   "source": [
    "> A **left join** will join two tables together and but will keep all data from the first (left) table using the key provided."
   ]
  },
  {
   "cell_type": "markdown",
   "metadata": {
    "hidden": true
   },
   "source": [
    "![](images/left_join.png)"
   ]
  },
  {
   "cell_type": "markdown",
   "metadata": {
    "hidden": true
   },
   "source": [
    "Example of a left and right join:\n",
    "\n",
    "```sql\n",
    "SELECT\n",
    "    table1.column_name,\n",
    "    table2.different_column_name\n",
    "FROM\n",
    "    table1\n",
    "    LEFT JOIN table2\n",
    "        ON table1.shared_column_name = table2.shared_column_name\n",
    "```"
   ]
  },
  {
   "cell_type": "markdown",
   "metadata": {
    "heading_collapsed": true,
    "hidden": true
   },
   "source": [
    "### Code Example for Left Join"
   ]
  },
  {
   "cell_type": "markdown",
   "metadata": {
    "hidden": true
   },
   "source": [
    "Recall our example using an inner join and how it lost some data since the key wasn't in both the `routes` _and_ `airlines` tables. "
   ]
  },
  {
   "cell_type": "code",
   "execution_count": null,
   "metadata": {
    "hidden": true
   },
   "outputs": [],
   "source": [
    "df_all_routes = pd.read_sql('''\n",
    "    SELECT \n",
    "        *\n",
    "    FROM\n",
    "        routes\n",
    "''', conn)\n",
    "\n",
    "# This will lose some data (some routes not included)\n",
    "df_routes_after_inner_join = pd.read_sql('''\n",
    "    SELECT \n",
    "        *\n",
    "    FROM\n",
    "        routes\n",
    "        JOIN airlines\n",
    "            ON routes.airline_id = airlines.id\n",
    "''', conn)\n",
    "\n",
    "# The number of rows are different\n",
    "df_all_routes.shape, df_routes_after_inner_join.shape"
   ]
  },
  {
   "cell_type": "markdown",
   "metadata": {
    "hidden": true
   },
   "source": [
    "If wanted to ensure we always had every route even if the key in `airlines` was not found, we could replace our `INNER JOIN` with a `LEFT JOIN`:"
   ]
  },
  {
   "cell_type": "code",
   "execution_count": null,
   "metadata": {
    "hidden": true
   },
   "outputs": [],
   "source": [
    "# This will include all the data from routes\n",
    "df_routes_after_left_join = pd.read_sql('''\n",
    "    SELECT \n",
    "        *\n",
    "    FROM\n",
    "        routes\n",
    "        LEFT JOIN airlines\n",
    "            ON routes.airline_id = airlines.id\n",
    "''', conn)\n",
    "\n",
    "df_all_routes.shape, df_routes_after_left_join.shape"
   ]
  },
  {
   "cell_type": "code",
   "execution_count": null,
   "metadata": {
    "scrolled": true
   },
   "outputs": [],
   "source": [
    "df_all_routes.isna().sum()"
   ]
  },
  {
   "cell_type": "code",
   "execution_count": null,
   "metadata": {},
   "outputs": [],
   "source": [
    "df_routes_after_left_join.isna().sum()"
   ]
  },
  {
   "cell_type": "markdown",
   "metadata": {},
   "source": [
    "SQLlite will default to an **INNER JOIN** if not specified"
   ]
  },
  {
   "cell_type": "markdown",
   "metadata": {
    "heading_collapsed": true,
    "hidden": true
   },
   "source": [
    "## Exercise: Joins"
   ]
  },
  {
   "cell_type": "markdown",
   "metadata": {
    "hidden": true
   },
   "source": [
    "Which airline has the most routes listed in our database?"
   ]
  },
  {
   "cell_type": "code",
   "execution_count": null,
   "metadata": {
    "hidden": true,
    "scrolled": true
   },
   "outputs": [],
   "source": [
    "# Your code here\n",
    "pd.read_sql(\"\"\"\n",
    "\n",
    "\n",
    "\n",
    "\"\"\", conn)"
   ]
  },
  {
   "cell_type": "markdown",
   "metadata": {
    "heading_collapsed": true,
    "hidden": true
   },
   "source": [
    "<details>\n",
    "    <summary><b>Possible Solution</b></summary>\n",
    "\n",
    "```sql\n",
    "SELECT\n",
    "    airlines.name AS airline,\n",
    "    COUNT() AS number_of_routes\n",
    "-- We first need to get all the relevant info via a join\n",
    "FROM\n",
    "    routes\n",
    "    -- LEFT JOIN since we want all routes (even if airline id is unknown)\n",
    "    LEFT JOIN airlines\n",
    "        ON routes.airline_id = airlines.id\n",
    "-- We need to group by airline's ID\n",
    "GROUP BY\n",
    "    airlines.id\n",
    "ORDER BY\n",
    "    number_of_routes DESC\n",
    "```\n",
    "</details>"
   ]
  },
  {
   "cell_type": "markdown",
   "metadata": {
    "heading_collapsed": true
   },
   "source": [
    "# Level Up: Execution Order"
   ]
  },
  {
   "cell_type": "markdown",
   "metadata": {
    "hidden": true
   },
   "source": [
    "```SQL\n",
    "SELECT \n",
    "    COUNT(table2.col2) AS my_new_count\n",
    "    ,table1.col2\n",
    "FROM\n",
    "    table1\n",
    "    JOIN table2\n",
    "        ON table1.col1 = table2.col2\n",
    "WHERE\n",
    "    table1.col1 > 0\n",
    "GROUP BY\n",
    "    table2.col1\n",
    "```"
   ]
  },
  {
   "cell_type": "markdown",
   "metadata": {
    "hidden": true
   },
   "source": [
    "1. `From`\n",
    "2. `Where`\n",
    "3. `Group By`\n",
    "4. `Having`\n",
    "5. `Select`\n",
    "6. `Order By`\n",
    "7. `Limit`"
   ]
  },
  {
   "cell_type": "code",
   "execution_count": null,
   "metadata": {},
   "outputs": [],
   "source": [
    "pd.read_sql(\"\"\"\n",
    "\n",
    "SELECT\n",
    "FROM \n",
    "WHERE \n",
    "GROUP BY\n",
    "HAVING \n",
    "ORDER BY\n",
    "LIMIT \n",
    "\n",
    "\"\"\")"
   ]
  },
  {
   "cell_type": "code",
   "execution_count": null,
   "metadata": {},
   "outputs": [],
   "source": [
    "# DOES NOT LIKE THIS AT ALL....\n",
    "pd.read_sql(\"\"\"\n",
    "\n",
    "FROM routes AS r\n",
    "    LEFT JOIN airlines AS al\n",
    "        ON r.airline_id = al.id\n",
    "GROUP BY r.airline_id\n",
    "SELECT COUNT() AS num_routes, al.name, r.airline\n",
    "ORDER BY num_routes DESC\n",
    "LIMIT 1\n",
    "\n",
    "\n",
    "\"\"\", conn)"
   ]
  }
 ],
 "metadata": {
  "kernelspec": {
   "display_name": "learn-env",
   "language": "python",
   "name": "python3"
  },
  "language_info": {
   "codemirror_mode": {
    "name": "ipython",
    "version": 3
   },
   "file_extension": ".py",
   "mimetype": "text/x-python",
   "name": "python",
   "nbconvert_exporter": "python",
   "pygments_lexer": "ipython3",
   "version": "3.9.18"
  },
  "toc": {
   "base_numbering": 1,
   "nav_menu": {},
   "number_sections": true,
   "sideBar": true,
   "skip_h1_title": false,
   "title_cell": "Table of Contents",
   "title_sidebar": "TOC",
   "toc_cell": true,
   "toc_position": {
    "height": "calc(100% - 180px)",
    "left": "10px",
    "top": "150px",
    "width": "277px"
   },
   "toc_section_display": true,
   "toc_window_display": true
  }
 },
 "nbformat": 4,
 "nbformat_minor": 4
}
